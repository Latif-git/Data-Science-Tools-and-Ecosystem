{
 "cells": [
  {
   "cell_type": "markdown",
   "id": "1dc925d7-f7e5-432e-8e48-f79ff2efb1c9",
   "metadata": {
    "tags": []
   },
   "source": [
    "# Data Science Tools and Ecosystem\n"
   ]
  },
  {
   "cell_type": "markdown",
   "id": "2b6ae806-4111-475c-9599-ef07eaf4cfb9",
   "metadata": {},
   "source": [
    "In this notebook, Data Science Tools and Ecosystem are summarized."
   ]
  },
  {
   "cell_type": "markdown",
   "id": "f3e09491-9b57-46d2-a12d-23d0cc015bd3",
   "metadata": {
    "tags": []
   },
   "source": [
    "Objectives:\n",
    "    * List popular languages for Data Science\n",
    "    * Listt commonly used libraries used by Data Scientists\n",
    "    * Table Data Science Tools"
   ]
  },
  {
   "cell_type": "markdown",
   "id": "90f2e331-cc1a-480c-ae9a-ac176a9eb338",
   "metadata": {},
   "source": [
    "Some of the popular languages that Data Scientists use are:\n",
    "1. Python\n",
    "2. R\n",
    "3. SQL\n",
    "4. Java"
   ]
  },
  {
   "cell_type": "markdown",
   "id": "65f7bc0c-6347-4ea6-ac5b-5ac1e66b5556",
   "metadata": {},
   "source": [
    "Some of the commonly used libraries used by Data Scientists include:\n",
    "1. Panda\n",
    "2. NumPy\n",
    "3. Matplotlib"
   ]
  },
  {
   "cell_type": "markdown",
   "id": "be6c31f2-2be0-4d46-becf-4996d82d1caa",
   "metadata": {},
   "source": [
    "| Data Science Tools |\n",
    "|--------------------|\n",
    "|Jupiter Notebook    |\n",
    "|R studio            |\n",
    "| Apache Zeppelin    |"
   ]
  },
  {
   "cell_type": "markdown",
   "id": "c5aa18d4-e25c-4b9d-952c-195153ce4f51",
   "metadata": {},
   "source": [
    "### Below are a few examples of evaluating arithmetic expressions in Python"
   ]
  },
  {
   "cell_type": "code",
   "execution_count": 3,
   "id": "73ec0135-5e22-4d99-9ce9-6d2414e6cca3",
   "metadata": {
    "tags": []
   },
   "outputs": [
    {
     "data": {
      "text/plain": [
       "17"
      ]
     },
     "execution_count": 3,
     "metadata": {},
     "output_type": "execute_result"
    }
   ],
   "source": [
    "#This a simple arithmetic expression to mutiply then add integers\n",
    "\n",
    "(3*4)+5"
   ]
  },
  {
   "cell_type": "code",
   "execution_count": 6,
   "id": "3d5e747a-e915-4c73-a514-ec42b9515726",
   "metadata": {
    "tags": []
   },
   "outputs": [
    {
     "data": {
      "text/plain": [
       "3.3333333333333335"
      ]
     },
     "execution_count": 6,
     "metadata": {},
     "output_type": "execute_result"
    }
   ],
   "source": [
    "#This will convert 200 minutes to hours by diving by 60\n",
    "\n",
    "Minutes = 200\n",
    "Hours = 200/60\n",
    "Hours"
   ]
  },
  {
   "cell_type": "markdown",
   "id": "e148d768-865a-4179-8fe1-d6517ad4701f",
   "metadata": {},
   "source": [
    "## Author\n",
    "Djelaili Abdelatif"
   ]
  },
  {
   "cell_type": "code",
   "execution_count": null,
   "id": "20ca458c-50e2-41ec-8be8-de86d83f659b",
   "metadata": {},
   "outputs": [],
   "source": []
  }
 ],
 "metadata": {
  "kernelspec": {
   "display_name": "Python",
   "language": "python",
   "name": "conda-env-python-py"
  },
  "language_info": {
   "codemirror_mode": {
    "name": "ipython",
    "version": 3
   },
   "file_extension": ".py",
   "mimetype": "text/x-python",
   "name": "python",
   "nbconvert_exporter": "python",
   "pygments_lexer": "ipython3",
   "version": "3.7.12"
  }
 },
 "nbformat": 4,
 "nbformat_minor": 5
}
